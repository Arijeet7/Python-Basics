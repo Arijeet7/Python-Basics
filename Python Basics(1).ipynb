{
 "cells": [
  {
   "cell_type": "markdown",
   "id": "7fd4a967-acfd-4bbc-9aad-59b6facd14c1",
   "metadata": {},
   "source": [
    "1. What is Python, and why is it popular?\n",
    "Answer:- Python is a high-level, interpreted programming language known for its simplicity, readability, and versatility.\n",
    "It is popular because:\n",
    "It has an easy-to-learn syntax.\n",
    "It's widely used in web development, data science, automation, AI, and more.\n",
    "It has a large standard library and active community.\n",
    "\n",
    "2. What is an interpreter in Python?\n",
    "Answer:- An interpreter in Python is a program that reads and executes Python code line by line, translating it into machine code at runtime.\n",
    "\n",
    "3. What are pre-defined keywords in Python?\n",
    "Answer:- Pre-defined keywords in Python are reserved words that have special meaning in the language. They are part of the syntax and cannot be used as variable names or identifiers.\n",
    "Example- if, else, for, while, import, etc.\n",
    "\n",
    "4. Can keywords be used as variable names?\n",
    "Answer:- No, keywords cannot be used as variable names in Python. They are reserved by the language for specific functions and syntax, so using them as variable names will cause a syntax error.\n",
    "\n",
    "5. What is mutability in Python?\n",
    "Answer:- Mutability in Python means whether an object can be changed after it's created. Mutable objects can be modified.\n",
    "\n",
    "6. Why are lists mutable, but tuples are immutable?\n",
    "Answer:- Lists are mutable because they are designed for dynamic data where it can add, remove, or change items.\n",
    "Tuples are immutable to provide fixed, unchangeable data for safety, performance, and use as dictionary keys or set elements.\n",
    "\n",
    "7. What is the difference between “==” and “is” operators in Python?\n",
    "Answer:- “==” checks if two variables have the same value.\n",
    "“is” checks if two variables refer to the same object in memory.\n",
    "\n",
    "8. What are logical operators in Python?\n",
    "Answer:- Logical operators in Python are used to combine conditional statements.\n",
    "and – True if both conditions are true, or – True if at least one condition is true, not – Reverses the truth value.\n",
    "\n",
    "9. What is type casting in Python?\n",
    "Answer:- Type casting in Python is converting a value from one data type to another, like turning a string into an integer or a float into a string.\n",
    "\n",
    "10. What is the difference between implicit and explicit type casting?\n",
    "Answer:- Implicit type casting happens automatically by Python (e.g., converting an int to float in expressions).\n",
    "Explicit type casting is when you manually convert types using functions like int(), str(), or float().\n",
    "\n",
    "11. What is the purpose of conditional statements in Python?\n",
    "Answer:- The purpose of conditional statements in Python is to execute different code blocks based on whether a condition is true or false, enabling decision-making in programs.\n",
    "\n",
    "12. How does the elif statement work?\n",
    "Answer:- The elif statement in Python checks another condition if the previous “if” was false, allowing multiple conditions to be tested in sequence.\n",
    "\n",
    "13. What is the difference between for and while loops?\n",
    "Answer:- “for” loop- Repeats code a set number of times or over items in a sequence.\n",
    "“while” loop- Repeats code as long as a condition is true.\n",
    "\n",
    "14. Describe a scenario where a while loop is more suitable than a for loop.\n",
    "Answer:- A while loop is more suitable when you don’t know in advance how many times you need to repeat, and the loop should run until a certain condition changes.\n"
   ]
  },
  {
   "cell_type": "code",
   "execution_count": 2,
   "id": "4126ad8a-02c9-4063-b368-564d3dcbbc80",
   "metadata": {},
   "outputs": [
    {
     "name": "stdout",
     "output_type": "stream",
     "text": [
      "Hello, World!\n"
     ]
    }
   ],
   "source": [
    " #Write a Python program to print \"Hello, World!\"\n",
    "s= \"Hello, World!\"\n",
    "print(s)"
   ]
  },
  {
   "cell_type": "code",
   "execution_count": 3,
   "id": "07f4e952-f8df-47ea-a917-8b52a6ab5eab",
   "metadata": {},
   "outputs": [
    {
     "name": "stdout",
     "output_type": "stream",
     "text": [
      "Name: Arijeet\n",
      "Age: 28\n"
     ]
    }
   ],
   "source": [
    "# Write a Python program that displays your name and age.\n",
    "name = \"Arijeet\"\n",
    "age = 28\n",
    "\n",
    "print(\"Name:\", name)\n",
    "print(\"Age:\", age)"
   ]
  },
  {
   "cell_type": "code",
   "execution_count": 4,
   "id": "fff38e06-d0ea-4470-bcfd-2aa2f719ed48",
   "metadata": {},
   "outputs": [
    {
     "data": {
      "text/plain": [
       "['False',\n",
       " 'None',\n",
       " 'True',\n",
       " 'and',\n",
       " 'as',\n",
       " 'assert',\n",
       " 'async',\n",
       " 'await',\n",
       " 'break',\n",
       " 'class',\n",
       " 'continue',\n",
       " 'def',\n",
       " 'del',\n",
       " 'elif',\n",
       " 'else',\n",
       " 'except',\n",
       " 'finally',\n",
       " 'for',\n",
       " 'from',\n",
       " 'global',\n",
       " 'if',\n",
       " 'import',\n",
       " 'in',\n",
       " 'is',\n",
       " 'lambda',\n",
       " 'nonlocal',\n",
       " 'not',\n",
       " 'or',\n",
       " 'pass',\n",
       " 'raise',\n",
       " 'return',\n",
       " 'try',\n",
       " 'while',\n",
       " 'with',\n",
       " 'yield']"
      ]
     },
     "execution_count": 4,
     "metadata": {},
     "output_type": "execute_result"
    }
   ],
   "source": [
    "#Write code to print all the pre-defined keywords in Python using the keyword library.\n",
    "import keyword\n",
    "keyword.kwlist"
   ]
  },
  {
   "cell_type": "code",
   "execution_count": 5,
   "id": "9fdf4587-3ce1-44b0-ab36-96c1d94c1dfc",
   "metadata": {},
   "outputs": [
    {
     "name": "stdin",
     "output_type": "stream",
     "text": [
      "Enter a word:  while\n"
     ]
    },
    {
     "name": "stdout",
     "output_type": "stream",
     "text": [
      "while is a Python keyword.\n"
     ]
    }
   ],
   "source": [
    "#Write a program that checks if a given word is a Python keyword.\n",
    "import keyword\n",
    "word = input(\"Enter a word: \")\n",
    "if keyword.iskeyword(word):\n",
    "    print(f\"{word} is a Python keyword.\")\n",
    "else:\n",
    "    print(f\"{word} is not a Python keyword.\")"
   ]
  },
  {
   "cell_type": "code",
   "execution_count": 6,
   "id": "8920a6e2-1d8d-42da-a8e1-cd066e6da43d",
   "metadata": {},
   "outputs": [
    {
     "name": "stdout",
     "output_type": "stream",
     "text": [
      "Original List: [1, 2, 3, 4, 5]\n",
      "List after changing element: [1, 2, 99, 4, 5]\n",
      "--------------------\n",
      "Original Tuple: (10, 20, 30, 40, 50)\n",
      "Error when changing tuple element: 'tuple' object does not support item assignment\n"
     ]
    }
   ],
   "source": [
    "#Create a list and tuple in Python, and demonstrate how attempting to change an element works differently for each.\n",
    "\n",
    "my_list = [1, 2, 3, 4, 5]\n",
    "print(\"Original List:\", my_list)\n",
    "try:\n",
    "  my_list[2] = 99\n",
    "  print(\"List after changing element:\", my_list)\n",
    "except TypeError as e:\n",
    "  print(\"Error when changing list element:\", e)\n",
    "print(\"-\" * 20) \n",
    "\n",
    "my_tuple = (10, 20, 30, 40, 50)\n",
    "print(\"Original Tuple:\", my_tuple)\n",
    "try:\n",
    "  my_tuple[2] = 99\n",
    "  print(\"Tuple after attempting to change element:\", my_tuple)\n",
    "except TypeError as e:\n",
    "  print(\"Error when changing tuple element:\", e)"
   ]
  },
  {
   "cell_type": "code",
   "execution_count": 7,
   "id": "4ef567c2-22b2-4163-808e-8a57c4232cdc",
   "metadata": {},
   "outputs": [
    {
     "name": "stdin",
     "output_type": "stream",
     "text": [
      "Enter the first number:  5\n",
      "Enter the second number:  4\n"
     ]
    },
    {
     "name": "stdout",
     "output_type": "stream",
     "text": [
      "\n",
      "Results:\n",
      "Addition: 9.0\n",
      "Subtraction: 1.0\n",
      "Multiplication: 20.0\n",
      "Division: 1.25\n"
     ]
    }
   ],
   "source": [
    "#Write a program that performs basic arithmetic operations on two user-input numbers.\n",
    "num1 = float(input(\"Enter the first number: \"))\n",
    "num2 = float(input(\"Enter the second number: \"))\n",
    "\n",
    "addition = num1 + num2\n",
    "subtraction = num1 - num2\n",
    "multiplication = num1 * num2\n",
    "\n",
    "if num2 != 0:\n",
    "    division = num1 / num2\n",
    "else:\n",
    "    division = \"Undefined (cannot divide by zero)\"\n",
    "\n",
    "print(\"\\nResults:\")\n",
    "print(\"Addition:\", addition)\n",
    "print(\"Subtraction:\", subtraction)\n",
    "print(\"Multiplication:\", multiplication)\n",
    "print(\"Division:\", division)"
   ]
  },
  {
   "cell_type": "code",
   "execution_count": 8,
   "id": "20901400-7fd8-4313-81bc-0f27c86e90f6",
   "metadata": {},
   "outputs": [
    {
     "name": "stdin",
     "output_type": "stream",
     "text": [
      "Enter first number:  5\n",
      "Enter second number:  -3\n"
     ]
    },
    {
     "name": "stdout",
     "output_type": "stream",
     "text": [
      "At least one number is not positive.\n",
      "Neither number is zero.\n",
      "At least one number is negative.\n"
     ]
    }
   ],
   "source": [
    "#Write a program to demonstrate the use of logical operators.\n",
    "a = int(input(\"Enter first number: \"))\n",
    "b = int(input(\"Enter second number: \"))\n",
    "\n",
    "if a > 0 and b > 0:\n",
    "    print(\"Both numbers are positive.\")\n",
    "else:\n",
    "    print(\"At least one number is not positive.\")\n",
    "\n",
    "if a == 0 or b == 0:\n",
    "    print(\"At least one number is zero.\")\n",
    "else:\n",
    "    print(\"Neither number is zero.\")\n",
    "    \n",
    "if not (a < 0 or b < 0):\n",
    "    print(\"Neither number is negative.\")\n",
    "else:\n",
    "    print(\"At least one number is negative.\")"
   ]
  },
  {
   "cell_type": "code",
   "execution_count": 9,
   "id": "d2138387-b753-4246-ab62-476e3dd33646",
   "metadata": {},
   "outputs": [
    {
     "name": "stdin",
     "output_type": "stream",
     "text": [
      "Enter a value:  101\n"
     ]
    },
    {
     "name": "stdout",
     "output_type": "stream",
     "text": [
      "Integer conversion: 101\n",
      "Float conversion: 101.0\n",
      "Boolean conversion: True\n"
     ]
    }
   ],
   "source": [
    "#Write a Python program to convert user input from string to integer, float, and boolean types.\n",
    "user_input = input(\"Enter a value: \")\n",
    "\n",
    "try:\n",
    "    int_value = int(user_input)\n",
    "    print(\"Integer conversion:\", int_value)\n",
    "except ValueError:\n",
    "    print(\"Cannot convert to integer.\")\n",
    "\n",
    "try:\n",
    "    float_value = float(user_input)\n",
    "    print(\"Float conversion:\", float_value)\n",
    "except ValueError:\n",
    "    print(\"Cannot convert to float.\")\n",
    "\n",
    "bool_value = bool(user_input)\n",
    "print(\"Boolean conversion:\", bool_value)"
   ]
  },
  {
   "cell_type": "code",
   "execution_count": 10,
   "id": "c7ca3c91-6147-4d58-8258-da9d4fc16a34",
   "metadata": {},
   "outputs": [
    {
     "name": "stdout",
     "output_type": "stream",
     "text": [
      "Error converting to integers: invalid literal for int() with base 10: '40.5'\n",
      "Converted to floats: [10.0, 20.0, 30.0, 40.5]\n",
      "Converted to booleans: [True, True, True, True]\n"
     ]
    }
   ],
   "source": [
    "# Write code to demonstrate type casting with list elements.\n",
    "str_list = ['10', '20', '30', '40.5']\n",
    "\n",
    "try:\n",
    "    int_list = [int(item) for item in str_list]\n",
    "    print(\"Converted to integers:\", int_list)\n",
    "except ValueError as e:\n",
    "    print(\"Error converting to integers:\", e)\n",
    "\n",
    "try:\n",
    "    float_list = [float(item) for item in str_list]\n",
    "    print(\"Converted to floats:\", float_list)\n",
    "except ValueError as e:\n",
    "    print(\"Error converting to floats:\", e)\n",
    "\n",
    "bool_list = [bool(item) for item in str_list]\n",
    "print(\"Converted to booleans:\", bool_list)"
   ]
  },
  {
   "cell_type": "code",
   "execution_count": 11,
   "id": "166c8cb8-619c-4e90-a539-142fd0c49a53",
   "metadata": {},
   "outputs": [
    {
     "name": "stdin",
     "output_type": "stream",
     "text": [
      "Enter a number:  101\n"
     ]
    },
    {
     "name": "stdout",
     "output_type": "stream",
     "text": [
      "The number is positive.\n"
     ]
    }
   ],
   "source": [
    "# Write a program that checks if a number is positive, negative, or zero.\n",
    "number = float(input(\"Enter a number: \"))\n",
    "if number > 0:\n",
    "    print(\"The number is positive.\")\n",
    "elif number < 0:\n",
    "    print(\"The number is negative.\")\n",
    "else:\n",
    "    print(\"The number is zero.\")"
   ]
  },
  {
   "cell_type": "code",
   "execution_count": 12,
   "id": "a2b8f433-9628-43ae-adb9-b1cc4cc7d23e",
   "metadata": {},
   "outputs": [
    {
     "name": "stdout",
     "output_type": "stream",
     "text": [
      "1\n",
      "2\n",
      "3\n",
      "4\n",
      "5\n",
      "6\n",
      "7\n",
      "8\n",
      "9\n",
      "10\n"
     ]
    }
   ],
   "source": [
    "#Write a for loop to print numbers from 1 to 10.\n",
    "for i in range(1, 11):\n",
    "    print(i)"
   ]
  },
  {
   "cell_type": "code",
   "execution_count": 13,
   "id": "5e2601b6-917f-4f87-919c-6505bee7c324",
   "metadata": {},
   "outputs": [
    {
     "name": "stdout",
     "output_type": "stream",
     "text": [
      "The sum of even numbers between 1 and 50 is: 650\n"
     ]
    }
   ],
   "source": [
    "#Write a Python program to find the sum of all even numbers between 1 and 50.\n",
    "total = 0\n",
    "for number in range(1, 51):\n",
    "  if number % 2 == 0:\n",
    "    total += number\n",
    "print(\"The sum of even numbers between 1 and 50 is:\", total)"
   ]
  },
  {
   "cell_type": "code",
   "execution_count": 14,
   "id": "8ad7ed25-4da2-4caf-8792-6f9eddaafacd",
   "metadata": {},
   "outputs": [
    {
     "name": "stdin",
     "output_type": "stream",
     "text": [
      "Enter a string:  PWSKILLS\n"
     ]
    },
    {
     "name": "stdout",
     "output_type": "stream",
     "text": [
      "Reversed string: SLLIKSWP\n"
     ]
    }
   ],
   "source": [
    "#Write a program to reverse a string using a while loop.\n",
    "input_string = input(\"Enter a string: \")\n",
    "reversed_string = \"\"\n",
    "index = len(input_string) - 1\n",
    "\n",
    "while index >= 0:\n",
    "  reversed_string += input_string[index]\n",
    "  index -= 1\n",
    "\n",
    "print(\"Reversed string:\", reversed_string)"
   ]
  },
  {
   "cell_type": "code",
   "execution_count": 16,
   "id": "ae457876-bc69-4b7e-96b4-cfefd1ec972f",
   "metadata": {},
   "outputs": [
    {
     "name": "stdin",
     "output_type": "stream",
     "text": [
      "Enter a non-negative integer:  20\n"
     ]
    },
    {
     "name": "stdout",
     "output_type": "stream",
     "text": [
      "Factorial of 20 is 2432902008176640000\n"
     ]
    }
   ],
   "source": [
    "# Write a Python program to calculate the factorial of a number provided by the user using a while loop.\n",
    "num = int(input(\"Enter a non-negative integer: \"))\n",
    "if num < 0:\n",
    "    print(\"Factorial is not defined for negative numbers.\")\n",
    "else:\n",
    "    factorial = 1\n",
    "    i = 1\n",
    "    while i <= num:\n",
    "        factorial *= i\n",
    "        i += 1\n",
    "    print(f\"Factorial of {num} is {factorial}\")"
   ]
  },
  {
   "cell_type": "code",
   "execution_count": null,
   "id": "82fe927b-e767-421a-aee9-0868d9a9d94f",
   "metadata": {},
   "outputs": [],
   "source": []
  }
 ],
 "metadata": {
  "kernelspec": {
   "display_name": "Python 3 (ipykernel)",
   "language": "python",
   "name": "python3"
  },
  "language_info": {
   "codemirror_mode": {
    "name": "ipython",
    "version": 3
   },
   "file_extension": ".py",
   "mimetype": "text/x-python",
   "name": "python",
   "nbconvert_exporter": "python",
   "pygments_lexer": "ipython3",
   "version": "3.13.5"
  }
 },
 "nbformat": 4,
 "nbformat_minor": 5
}
